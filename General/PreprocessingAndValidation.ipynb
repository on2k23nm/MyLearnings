{
 "cells": [
  {
   "cell_type": "code",
   "execution_count": 1,
   "metadata": {},
   "outputs": [],
   "source": [
    "import random\n",
    "\n",
    "import pandas as pd\n",
    "import numpy as np\n",
    "from pathlib import Path\n",
    "import matplotlib.pyplot as plt\n",
    "from tqdm.notebook import tqdm\n",
    "\n",
    "import torch\n",
    "from torch.utils.data import Dataset, DataLoader\n",
    "\n",
    "from PIL import Image\n",
    "import albumentations as A\n",
    "from albumentations import CenterCrop, Compose, Resize"
   ]
  },
  {
   "cell_type": "code",
   "execution_count": 2,
   "metadata": {},
   "outputs": [],
   "source": [
    "TRAIN_ROOT_DIR = Path('/home/onkar/DATASET/carvana-image-masking-challenge/train')\n",
    "PROCESSED_IMAGES_DIR = Path('/home/onkar/DATASET/carvana-image-masking-challenge/processed/')"
   ]
  },
  {
   "cell_type": "code",
   "execution_count": 3,
   "metadata": {},
   "outputs": [],
   "source": [
    "def create_file_list(root_dir, num_files=None):\n",
    "    train_dir = root_dir/'train'\n",
    "    mask_dir  = root_dir/'train_masks'\n",
    "    \n",
    "    all_files = []\n",
    "\n",
    "    for img_fl in train_dir.glob('*.jpg'):\n",
    "        pair = []\n",
    "        mask_fl = img_fl.with_stem(img_fl.stem + '_mask').with_suffix('.gif')\n",
    "        \n",
    "        parts = list(mask_fl.parts)\n",
    "        parts[-2] = 'train_masks'\n",
    "        mask_fl = Path(*parts)\n",
    "        \n",
    "        # print(f'Image file : {img_fl}, Mask file : {mask_fl}')\n",
    "        all_files.append((img_fl, mask_fl))\n",
    "\n",
    "    random.shuffle(all_files)\n",
    "        \n",
    "    return all_files\n",
    "\n",
    "## -- all_files are all the pair of files (image, mask --  \n",
    "all_files = create_file_list(TRAIN_ROOT_DIR)\n",
    "\n",
    "# print(ll[0][0])\n",
    "# fig, axes = plt.subplots(3, 2, figsize=(10, 10))\n",
    "\n",
    "# for i in range(3):\n",
    "#     for j in range(2):\n",
    "#         img = Image.open(ll[i][j])\n",
    "#         axes[i][j].imshow(img)\n",
    "# plt.show()"
   ]
  },
  {
   "cell_type": "code",
   "execution_count": 4,
   "metadata": {},
   "outputs": [
    {
     "data": {
      "application/vnd.jupyter.widget-view+json": {
       "model_id": "a4235cdd27664aec9d6860728155922e",
       "version_major": 2,
       "version_minor": 0
      },
      "text/plain": [
       "  0%|          | 0/5088 [00:00<?, ?it/s]"
      ]
     },
     "metadata": {},
     "output_type": "display_data"
    }
   ],
   "source": [
    "## Define transformations\n",
    "def transform(image, mask, top, bottom, left, right):\n",
    "    width, height = image.size\n",
    "    \n",
    "    transform = A.Compose([\n",
    "        A.Crop(x_min=left, y_min=top, x_max=width - right, y_max=height - bottom),\n",
    "        A.Resize(height=960, width=1792),\n",
    "        A.HorizontalFlip(p=0.5),\n",
    "        #A.Perspective(scale=(0.05, 0.1), p=0.5)\n",
    "        \n",
    "    ])\n",
    "    \n",
    "    transformed = transform(image=np.array(image), mask=np.array(mask))\n",
    "    \n",
    "    return transformed['image'], transformed['mask']\n",
    "\n",
    "dataset_len = len(all_files)\n",
    "\n",
    "# Save the processed files in *.npy format\n",
    "def save_processed_files():\n",
    "    for counter, (image_path, mask_path) in enumerate(tqdm(all_files)):\n",
    "        # print(f'counter : {counter}, pair : {image, mask}')\n",
    "        \n",
    "        image = Image.open(image_path)\n",
    "        mask  = Image.open(mask_path)\n",
    "\n",
    "        image, mask = transform(image, mask, 250, 200, 50, 50)\n",
    "\n",
    "        target_dir = 'train' if counter < int(dataset_len*0.7) else 'val'\n",
    "        save_path = PROCESSED_IMAGES_DIR/target_dir\n",
    "\n",
    "        image_save_path = save_path/'images'\n",
    "        mask_save_path = save_path/'masks'\n",
    "        \n",
    "        image_save_path.mkdir(parents=True, exist_ok=True)\n",
    "        mask_save_path.mkdir(parents=True, exist_ok=True)\n",
    "        \n",
    "        # print(f'Saving image {image} at : {image_save_path}')\n",
    "        np.save(image_save_path/image_path.name.replace('jpg', 'npy'), image)\n",
    "        \n",
    "        # print(f'Saving mask {mask} at : {mask_save_path}')\n",
    "        np.save(mask_save_path/mask_path.name.replace('gif', 'npy'), mask)\n",
    "\n",
    "save_processed_files()  \n",
    "        \n",
    "# ll = all_files[0:3]\n",
    "# # -------- TESTING PURPOSE ONLY -------------\n",
    "# fig, axes = plt.subplots(3, 2, figsize=(10, 10))\n",
    "\n",
    "# for i in range(3):\n",
    "#     image, mask = ll[i]\n",
    "    \n",
    "#     print(f'Image file : {image.name}, Mask file : {mask.name}')\n",
    "    \n",
    "#     image = Image.open(image)\n",
    "#     mask = Image.open(mask)\n",
    "#     image, mask = transform(image, mask, 250, 200, 50, 50)\n",
    "#     print(f'img.size : {image.shape}')\n",
    "#     axes[i][0].imshow(image)\n",
    "#     axes[i][1].imshow(mask)\n",
    "# plt.show()"
   ]
  }
 ],
 "metadata": {
  "kernelspec": {
   "display_name": "fastai23",
   "language": "python",
   "name": "python3"
  },
  "language_info": {
   "codemirror_mode": {
    "name": "ipython",
    "version": 3
   },
   "file_extension": ".py",
   "mimetype": "text/x-python",
   "name": "python",
   "nbconvert_exporter": "python",
   "pygments_lexer": "ipython3",
   "version": "3.10.12"
  }
 },
 "nbformat": 4,
 "nbformat_minor": 2
}
